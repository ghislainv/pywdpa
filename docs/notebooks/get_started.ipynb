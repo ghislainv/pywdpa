{
 "cells": [
  {
   "cell_type": "markdown",
   "metadata": {
    "raw_mimetype": "text/restructuredtext"
   },
   "source": [
    "# Get started\n",
    "\n",
    "## Overview\n",
    "\n",
    "The `pywdpa` Python package is an interface to the World Database on Protected Areas (WDPA)\n",
    "hosted on the Protected planet website: <https://www.protectedplanet.net>.\n",
    "It allows users to download spatial shapefiles of protected areas (PA) for world countries using the Protected Planet API (<https://api.protectedplanet.net>).\n",
    "\n",
    "This package contains two main functions:\n",
    "\n",
    "- `.get_token()`: check if your WDPA token is correctly stored (see [usage](https://ecology.ghislainv.fr/pywdpa/reference.html#module-pywdpa.get_token));\n",
    "- `.get_wdpa()`: download the shapefile of protected areas for one specific country (see [usage](https://ecology.ghislainv.fr/pywdpa/reference.html#module-pywdpa.get_wdpa)).\n"
   ]
  },
  {
   "cell_type": "markdown",
   "metadata": {},
   "source": [
    "## Installation\n",
    "\n",
    "You will need several dependencies to run the `pywdpa` Python package (`numpy`, `gdal`, and `requests`). The best way to install the package is to create a Python virtual environment, either through `virtualenv` or `conda`. A virtual environment is a self-contained directory tree that contains a Python installation for a particular version of Python, plus a number of additional packages.\n",
    "\n",
    "### Using `virtualenv`\n",
    "\n",
    "You first need to have the `virtualenv` package installed (see [here](https://packaging.python.org/guides/installing-using-pip-and-virtual-environments/)).\n",
    "\n",
    "Then, create a virtual environment and install the `pywdpa` package with the following commands:\n",
    "\n",
    "```shell\n",
    "# In a shell\n",
    "cd ~\n",
    "mkdir venvs # Directory for virtual environments\n",
    "cd venvs\n",
    "virtualenv --python=/usr/bin/python3 venv-pywppa\n",
    "source ~/venvs/venv-far/bin/activate\n",
    "pip install pywdpa # For PyPI version, this will install all other dependencies\n",
    "# pip install https://github.com/ghislainv/pywdpa/archive/master.zip # For GitHub dev version\n",
    "# pip install geopandas descartes folium python-dotenv # Optional additional packages\n",
    "```\n",
    "\n",
    "To deactivate and delete the virtual environment:\n",
    "\n",
    "```shell\n",
    "deactivate\n",
    "rm -R ~/venvs/venv-pywdpa # Just remove the repository\n",
    "```\n",
    "\n",
    "### Using `conda`\n",
    "\n",
    "You first need to have `miniconda3` installed (see [here](https://docs.conda.io/en/latest/miniconda.html)).\n",
    "\n",
    "Then, create a conda environment (details [here](https://docs.conda.io/projects/conda/en/latest/user-guide/tasks/manage-environments.html)) and install the `pywdpa` package with the following commands:\n",
    "\n",
    "```shell\n",
    "# In a shell\n",
    "conda create --name conda-pywdpa python pip numpy gdal requests --yes\n",
    "conda activate conda-far\n",
    "# conda install geopandas --yes  # Optional additional packages available in conda\n",
    "# conda install -c conda-forge descartes folium python-dotenv --yes  # Optional additional packages available in conda\n",
    "pip install pywdpa # Install PyPI version\n",
    "# pip install https://github.com/ghislainv/pywdpa/archive/master.zip # For GitHub dev version\n",
    "```\n",
    "\n",
    "To deactivate and delete the conda environment:\n",
    "\n",
    "```shell\n",
    "conda deactivate\n",
    "conda env remove --name conda-pywdpa\n",
    "```"
   ]
  },
  {
   "cell_type": "markdown",
   "metadata": {},
   "source": [
    "## Managing the WDPA API token\n",
    "\n",
    "This package uses the Protected Planet API to access data on world protected areas. You must first have obtained a Personal API Token by\n",
    "filling in the form available at <https://api.protectedplanet.net/request>. Then you need to set an\n",
    "environment variable (we recommend using the name `WDPA_KEY`) using either the command `os.environ[\"WDPA_KEY\"]=\"your_token\"` or\n",
    "[python-dotenv](https://github.com/theskumar/python-dotenv).    \n",
    "\n",
    "The validity of your token can be checked with function `.get_token()`."
   ]
  },
  {
   "cell_type": "markdown",
   "metadata": {
    "raw_mimetype": "text/markdown"
   },
   "source": [
    "```python\n",
    "# In Python\n",
    "import os\n",
    "import pywdpa\n",
    "\n",
    "# Set WDPA_KEY\n",
    "# (assuming that your token is \"ca4703ffba6b9a26b2db73f78e56e088\")\n",
    "os.environ[\"WDPA_KEY\"]=\"ca4703ffba6b9a26b2db73f78e56e088\"\n",
    "\n",
    "# Check your token validity\n",
    "pywdpa.get_token()\n",
    "```"
   ]
  },
  {
   "cell_type": "markdown",
   "metadata": {},
   "source": [
    "If your token is valid, the function will return its value. Otherwise it will print an error message."
   ]
  },
  {
   "cell_type": "markdown",
   "metadata": {},
   "source": [
    "## Downloading protected areas\n",
    "\n",
    "The function `.get_wdpa()` can be used to download the shapefile of protected areas for the Reunion Island which has the iso code \"REU\". The output file name in the working directory will be \"pa_REU.shp\"."
   ]
  },
  {
   "cell_type": "code",
   "execution_count": 1,
   "metadata": {},
   "outputs": [],
   "source": [
    "import pywdpa\n",
    "pywdpa.get_wdpa(\"REU\")"
   ]
  },
  {
   "cell_type": "markdown",
   "metadata": {},
   "source": [
    "The shapefile can be imported in the Python environment, for example using the Python package `geopandas`."
   ]
  },
  {
   "cell_type": "code",
   "execution_count": 2,
   "metadata": {},
   "outputs": [
    {
     "data": {
      "text/html": [
       "<div>\n",
       "<style scoped>\n",
       "    .dataframe tbody tr th:only-of-type {\n",
       "        vertical-align: middle;\n",
       "    }\n",
       "\n",
       "    .dataframe tbody tr th {\n",
       "        vertical-align: top;\n",
       "    }\n",
       "\n",
       "    .dataframe thead th {\n",
       "        text-align: right;\n",
       "    }\n",
       "</style>\n",
       "<table border=\"1\" class=\"dataframe\">\n",
       "  <thead>\n",
       "    <tr style=\"text-align: right;\">\n",
       "      <th></th>\n",
       "      <th>wdpa_id</th>\n",
       "      <th>pa_name</th>\n",
       "      <th>ctry_iso3</th>\n",
       "      <th>is_marine</th>\n",
       "      <th>type</th>\n",
       "      <th>iucn_cat</th>\n",
       "      <th>geometry</th>\n",
       "    </tr>\n",
       "  </thead>\n",
       "  <tbody>\n",
       "    <tr>\n",
       "      <th>0</th>\n",
       "      <td>62780</td>\n",
       "      <td>Bois De Nèfles-Saint-Paul</td>\n",
       "      <td>REU</td>\n",
       "      <td>False</td>\n",
       "      <td>Forest Integral Biological Reserve</td>\n",
       "      <td>Ia</td>\n",
       "      <td>POLYGON ((55.38600 -21.03200, 55.37700 -21.027...</td>\n",
       "    </tr>\n",
       "    <tr>\n",
       "      <th>1</th>\n",
       "      <td>62786</td>\n",
       "      <td>Hauts De Saint-Philippe</td>\n",
       "      <td>REU</td>\n",
       "      <td>False</td>\n",
       "      <td>Forest Integral Biological Reserve</td>\n",
       "      <td>Ia</td>\n",
       "      <td>POLYGON ((55.72300 -21.33500, 55.71100 -21.337...</td>\n",
       "    </tr>\n",
       "    <tr>\n",
       "      <th>2</th>\n",
       "      <td>62787</td>\n",
       "      <td>Les Mares</td>\n",
       "      <td>REU</td>\n",
       "      <td>False</td>\n",
       "      <td>Forest Integral Biological Reserve</td>\n",
       "      <td>Ia</td>\n",
       "      <td>POLYGON ((55.72300 -21.18300, 55.73900 -21.179...</td>\n",
       "    </tr>\n",
       "    <tr>\n",
       "      <th>3</th>\n",
       "      <td>142721</td>\n",
       "      <td>Matarum</td>\n",
       "      <td>REU</td>\n",
       "      <td>False</td>\n",
       "      <td>Forest Integral Biological Reserve</td>\n",
       "      <td>Ia</td>\n",
       "      <td>POLYGON ((55.48000 -21.10000, 55.50200 -21.118...</td>\n",
       "    </tr>\n",
       "    <tr>\n",
       "      <th>4</th>\n",
       "      <td>142722</td>\n",
       "      <td>Le Mazerin</td>\n",
       "      <td>REU</td>\n",
       "      <td>False</td>\n",
       "      <td>Forest Integral Biological Reserve</td>\n",
       "      <td>Ia</td>\n",
       "      <td>POLYGON ((55.60000 -21.05300, 55.59300 -21.054...</td>\n",
       "    </tr>\n",
       "  </tbody>\n",
       "</table>\n",
       "</div>"
      ],
      "text/plain": [
       "   wdpa_id                    pa_name ctry_iso3 is_marine  \\\n",
       "0    62780  Bois De Nèfles-Saint-Paul       REU     False   \n",
       "1    62786    Hauts De Saint-Philippe       REU     False   \n",
       "2    62787                  Les Mares       REU     False   \n",
       "3   142721                    Matarum       REU     False   \n",
       "4   142722                 Le Mazerin       REU     False   \n",
       "\n",
       "                                 type iucn_cat  \\\n",
       "0  Forest Integral Biological Reserve       Ia   \n",
       "1  Forest Integral Biological Reserve       Ia   \n",
       "2  Forest Integral Biological Reserve       Ia   \n",
       "3  Forest Integral Biological Reserve       Ia   \n",
       "4  Forest Integral Biological Reserve       Ia   \n",
       "\n",
       "                                            geometry  \n",
       "0  POLYGON ((55.38600 -21.03200, 55.37700 -21.027...  \n",
       "1  POLYGON ((55.72300 -21.33500, 55.71100 -21.337...  \n",
       "2  POLYGON ((55.72300 -21.18300, 55.73900 -21.179...  \n",
       "3  POLYGON ((55.48000 -21.10000, 55.50200 -21.118...  \n",
       "4  POLYGON ((55.60000 -21.05300, 55.59300 -21.054...  "
      ]
     },
     "execution_count": 2,
     "metadata": {},
     "output_type": "execute_result"
    }
   ],
   "source": [
    "import geopandas as gpd\n",
    "\n",
    "pa_REU = gpd.read_file(\"pa_REU.shp\")\n",
    "pa_REU.head()"
   ]
  },
  {
   "cell_type": "markdown",
   "metadata": {},
   "source": [
    "Protected areas can be plotted using either the `.plot` function from the geopandas object or using the Python package `folium` which makes it easy to visualize data that’s been manipulated in Python on an interactive leaflet map."
   ]
  },
  {
   "cell_type": "code",
   "execution_count": 3,
   "metadata": {},
   "outputs": [
    {
     "data": {
      "text/plain": [
       "<AxesSubplot:>"
      ]
     },
     "execution_count": 3,
     "metadata": {},
     "output_type": "execute_result"
    },
    {
     "data": {
      "image/png": "[encoded data removed]",
      "text/plain": [
       "<Figure size 432x288 with 1 Axes>"
      ]
     },
     "metadata": {
      "needs_background": "light"
     },
     "output_type": "display_data"
    }
   ],
   "source": [
    "pa_REU.plot()"
   ]
  },
  {
   "cell_type": "code",
   "execution_count": 4,
   "metadata": {},
   "outputs": [
    {
     "data": {
      "text/html": [
       "<div style=\"width:100%;\"><div style=\"position:relative;width:100%;height:0;padding-bottom:60%;\"><span style=\"color:#565656\">Make this Notebook Trusted to load map: File -> Trust Notebook</span><iframe src=\"about:blank\" style=\"position:absolute;width:100%;height:100%;left:0;top:0;border:none !important;\" data-html=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 onload=\"this.contentDocument.open();this.contentDocument.write(atob(this.getAttribute('data-html')));this.contentDocument.close();\" allowfullscreen webkitallowfullscreen mozallowfullscreen></iframe></div></div>"
      ],
      "text/plain": [
       "<folium.folium.Map at 0x7faac6877520>"
      ]
     },
     "execution_count": 4,
     "metadata": {},
     "output_type": "execute_result"
    }
   ],
   "source": [
    "import folium\n",
    "latitude = -21.1\n",
    "longitude = 55.5\n",
    "m = folium.Map(location = [latitude, longitude],\n",
    "               zoom_start = 10)\n",
    "folium.GeoJson(pa_REU).add_to(m)\n",
    "m"
   ]
  },
  {
   "cell_type": "markdown",
   "metadata": {},
   "source": [
    "## Command line \n",
    "\n",
    "The function `.get_wdpa()` can be directly executed in a shell using the `pywdpa` command followed by the country iso code as argument. This will download the shapefile of the protected areas for the Reunion Island in the current working directory."
   ]
  },
  {
   "cell_type": "code",
   "execution_count": 5,
   "metadata": {},
   "outputs": [
    {
     "name": "stdout",
     "output_type": "stream",
     "text": [
      "Executing pywdpa version 0.1.3.\n",
      "For country with isocode: REU\n"
     ]
    }
   ],
   "source": [
    "%%bash\n",
    "# In a shell\n",
    "pywdpa REU"
   ]
  }
 ],
 "metadata": {
  "celltoolbar": "Format de la Cellule Texte Brut",
  "kernelspec": {
   "display_name": "Python 3",
   "language": "python",
   "name": "python3"
  },
  "language_info": {
   "codemirror_mode": {
    "name": "ipython",
    "version": 3
   },
   "file_extension": ".py",
   "mimetype": "text/x-python",
   "name": "python",
   "nbconvert_exporter": "python",
   "pygments_lexer": "ipython3",
   "version": "3.8.2"
  }
 },
 "nbformat": 4,
 "nbformat_minor": 4
}
