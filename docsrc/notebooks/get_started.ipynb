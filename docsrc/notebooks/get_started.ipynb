{
 "cells": [
  {
   "cell_type": "markdown",
   "metadata": {
    "raw_mimetype": "text/restructuredtext"
   },
   "source": [
    "# Get started\n",
    "\n",
    "## Introduction\n",
    "\n",
    "The `pywdpa` Python package is an interface to the World Database on Protected Areas (WDPA)\n",
    "hosted on the Protected planet website: <https://www.protectedplanet.net>.\n",
    "It allows users to download spatial shapefiles of protected areas (PA) for world countries using the Protected Planet API (<https://api.protectedplanet.net>).\n",
    "\n",
    "This package contains two main functions:\n",
    "\n",
    "- `.get_token()`: check if your WDPA token is correctly stored (see [usage](https://ecology.ghislainv.fr/pywdpa/reference.html#module-pywdpa.get_token));\n",
    "- `.get_wdpa()`: download the shapefile of protected areas for one specific country (see [usage](https://ecology.ghislainv.fr/pywdpa/reference.html#module-pywdpa.get_wdpa)).\n",
    "\n",
    "The function `.get_wdpa()` can be directly executed in the terminal using the `pywdpa` command followed by the country iso code as argument:\n",
    "\n",
    "```shell\n",
    "# In a shell\n",
    "pywdpa REU\n",
    "```\n",
    "\n",
    "This will download the shapefile of the protected areas for the Reunion Island in the current working directory. "
   ]
  },
  {
   "cell_type": "markdown",
   "metadata": {},
   "source": [
    "## Installation\n",
    "\n",
    "You will need several dependencies to run the `pywdpa` Python package (`numpy`, `gdal`, and `requests`). The best way to install the package is to create a Python virtual environment, either through `virtualenv` or `conda`. A virtual environment is a self-contained directory tree that contains a Python installation for a particular version of Python, plus a number of additional packages.\n",
    "\n",
    "### Using `virtualenv`\n",
    "\n",
    "You first need to have the `virtualenv` package installed (see [here](https://packaging.python.org/guides/installing-using-pip-and-virtual-environments/)).\n",
    "\n",
    "Then, create a virtual environment and install the `pywdpa` package with the following commands:\n",
    "\n",
    "```shell\n",
    "# In a shell\n",
    "cd ~\n",
    "mkdir venvs # Directory for virtual environments\n",
    "cd venvs\n",
    "virtualenv --python=/usr/bin/python3 venv-pywppa\n",
    "source ~/venvs/venv-far/bin/activate\n",
    "pip install pywdpa # For PyPI version, this will install all other dependencies\n",
    "# pip install https://github.com/ghislainv/pywdpa/archive/master.zip # For GitHub dev version\n",
    "# pip install geopandas descartes folium python-dotenv # Optional additional packages\n",
    "```\n",
    "\n",
    "To deactivate and delete the virtual environment:\n",
    "\n",
    "```shell\n",
    "deactivate\n",
    "rm -R ~/venvs/venv-pywdpa # Just remove the repository\n",
    "```\n",
    "\n",
    "### Using `conda`\n",
    "\n",
    "You first need to have `miniconda3` installed (see [here](https://docs.conda.io/en/latest/miniconda.html)).\n",
    "\n",
    "Then, create a conda environment (details [here](https://docs.conda.io/projects/conda/en/latest/user-guide/tasks/manage-environments.html)) and install the `pywdpa` package with the following commands:\n",
    "\n",
    "```shell\n",
    "# In a shell\n",
    "conda create --name conda-pywdpa python pip numpy gdal requests --yes\n",
    "conda activate conda-far\n",
    "# conda install geopandas --yes  # Optional additional packages available in conda\n",
    "# conda install -c conda-forge descartes folium python-dotenv --yes  # Optional additional packages available in conda\n",
    "pip install pywdpa # Install PyPI version\n",
    "# pip install https://github.com/ghislainv/pywdpa/archive/master.zip # For GitHub dev version\n",
    "```\n",
    "\n",
    "To deactivate and delete the conda environment:\n",
    "\n",
    "```shell\n",
    "conda deactivate\n",
    "conda env remove --name conda-pywdpa\n",
    "```"
   ]
  },
  {
   "cell_type": "markdown",
   "metadata": {},
   "source": [
    "## Managing the WDPA API token\n",
    "\n",
    "This package uses the Protected Planet API to access data on world protected areas. You must first have obtained a Personal API Token by\n",
    "filling in the form available at <https://api.protectedplanet.net/request>. Then you need to set an\n",
    "environment variable (we recommend using the name `WDPA_KEY`) using either the command `os.environ[\"WDPA_KEY\"]=\"your_token\"` or\n",
    "[python-dotenv](https://github.com/theskumar/python-dotenv).    \n",
    "\n",
    "The validity of your token can be checked with function `.get_token()`."
   ]
  },
  {
   "cell_type": "markdown",
   "metadata": {
    "raw_mimetype": "text/markdown"
   },
   "source": [
    "```python\n",
    "# In Python\n",
    "import os\n",
    "import pywdpa\n",
    "\n",
    "# Set WDPA_KEY\n",
    "# (assuming that your token is \"ca4703ffba6b9a26b2db73f78e56e088\")\n",
    "os.environ[\"WDPA_KEY\"]=\"ca4703ffba6b9a26b2db73f78e56e088\"\n",
    "\n",
    "# Check your token validity\n",
    "pywdpa.get_token()\n",
    "```"
   ]
  },
  {
   "cell_type": "markdown",
   "metadata": {},
   "source": [
    "If your token is valid, the function will return its value. Otherwise it will print an error message."
   ]
  },
  {
   "cell_type": "markdown",
   "metadata": {},
   "source": [
    "## Downloading protected areas\n",
    "\n",
    "The function `.get_wdpa()` can be used to download the shapefile of protected areas for the Reunion Island which has the iso code \"REU\". The output file name in the working directory will be \"pa_REU.shp\"."
   ]
  },
  {
   "cell_type": "code",
   "execution_count": null,
   "metadata": {},
   "outputs": [],
   "source": [
    "pywdpa.get_wdpa(\"REU\")"
   ]
  },
  {
   "cell_type": "markdown",
   "metadata": {},
   "source": [
    "The shapefile can be imported in the Python environment, for example using the Python package `geopandas`."
   ]
  },
  {
   "cell_type": "code",
   "execution_count": null,
   "metadata": {},
   "outputs": [],
   "source": [
    "import geopandas as gpd\n",
    "\n",
    "pa_REU = gpd.read_file(\"pa_REU.shp\")\n",
    "pa_REU.head()"
   ]
  },
  {
   "cell_type": "markdown",
   "metadata": {},
   "source": [
    "Protected areas can be plotted using either the `.plot` function from the geopandas object or using the Python package `folium` which makes it easy to visualize data that’s been manipulated in Python on an interactive leaflet map."
   ]
  },
  {
   "cell_type": "code",
   "execution_count": null,
   "metadata": {},
   "outputs": [],
   "source": [
    "pa_REU.plot()"
   ]
  },
  {
   "cell_type": "code",
   "execution_count": null,
   "metadata": {},
   "outputs": [],
   "source": [
    "import folium\n",
    "latitude = -21.1\n",
    "longitude = 55.5\n",
    "m = folium.Map(location = [latitude, longitude],\n",
    "               zoom_start = 10)\n",
    "folium.GeoJson(pa_REU).add_to(m)\n",
    "m"
   ]
  }
 ],
 "metadata": {
  "celltoolbar": "Format de la Cellule Texte Brut",
  "kernelspec": {
   "display_name": "Python 3",
   "language": "python",
   "name": "python3"
  },
  "language_info": {
   "codemirror_mode": {
    "name": "ipython",
    "version": 3
   },
   "file_extension": ".py",
   "mimetype": "text/x-python",
   "name": "python",
   "nbconvert_exporter": "python",
   "pygments_lexer": "ipython3",
   "version": "3.8.2"
  }
 },
 "nbformat": 4,
 "nbformat_minor": 4
}
